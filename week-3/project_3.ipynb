{
 "cells": [
  {
   "cell_type": "code",
   "execution_count": 11,
   "metadata": {},
   "outputs": [
    {
     "name": "stdout",
     "output_type": "stream",
     "text": [
      "Hello! Welcome to Mirireoluwa's Program. This program aims to find the roots of Cubic equations\n",
      "A cubic equation follows the format: x^3 + ax^2 + bx + c = 0\n",
      "The roots of the cubic equation are:  (0.1875449805852163+1.260930053212332j) (-1.8293097002707122-1.7224624850833095j) (-1.3582352803145044+0.4615324318709775j)\n",
      "Thank you for using Mirireoluwa's Program\n"
     ]
    }
   ],
   "source": [
    "# impoeting math module\n",
    "import cmath\n",
    "import math\n",
    "\n",
    "# introductory note\n",
    "msg1 = \"Hello!\"\n",
    "msg2 = \"Welcome to Mirireoluwa's Program.\"\n",
    "msg3 = \"This program aims to find the roots of Cubic equations\"\n",
    "\n",
    "concat = msg1 +' '+msg2+' '+msg3\n",
    "print (concat)\n",
    "\n",
    "print (\"A cubic equation follows the format: x^3 + ax^2 + bx + c = 0\")\n",
    "\n",
    "a = float(input(\"Type in the value of a: \"))\n",
    "b = float(input(\"Type in the value of b: \"))\n",
    "c = float(input(\"Type in the value of c: \"))\n",
    "\n",
    "\n",
    "# using Cardano's formula to solve\n",
    "q = (3*b - a**2) / (9)\n",
    "r = (9*a*b - (27*c) - (2*(a**3))) / 54\n",
    "s = ((r + ((q**3)+(r**2))**0.5)) ** (0.333)\n",
    "t = ((r - ((q**3)+(r**2))**0.5)) ** (0.333)\n",
    "\n",
    "\n",
    "\n",
    "# solution of the cubic equation\n",
    "root1 = s + t - (1/3)* a\n",
    "root2 = ((-1/2) * (s + t)) - ((1/3)*a) + (0.5 * math.sqrt(3) * (s - t))\n",
    "root3 = ((-1/2) * (s + t)) - ((1/3)*a) - (0.5 * math.sqrt(3) * (s - t))\n",
    "\n",
    "print (\"The roots of the cubic equation are: \", root1, root2, root3)\n",
    "\n",
    "print (\"Thank you for using Mirireoluwa's Program\")\n"
   ]
  },
  {
   "cell_type": "markdown",
   "metadata": {},
   "source": []
  },
  {
   "cell_type": "code",
   "execution_count": 3,
   "metadata": {},
   "outputs": [
    {
     "name": "stdout",
     "output_type": "stream",
     "text": [
      "Hello! Welcome to Mirireoluwa's Program. This program aims to find the roots of Quadratic equations18\n",
      "A quadratic equation follows the format: ax^2 + bx + c = 0\n",
      "The roots of the quadratic equation are 'Imaginary' and they are:  (-1-2.23606797749979j) (-1-2.23606797749979j)\n",
      "Thank you for using Mirireoluwa's Program\n"
     ]
    }
   ],
   "source": [
    "# importing math module\n",
    "import math\n",
    "import cmath\n",
    "\n",
    "# introductory note\n",
    "msg1 = \"Hello!\"\n",
    "msg2 = \"Welcome to Mirireoluwa's Program.\"\n",
    "msg3 = \"This program aims to find the roots of Quadratic equations18\"\n",
    "\n",
    "concat = msg1 +' '+msg2+' '+msg3\n",
    "print (concat)\n",
    "\n",
    "print (\"A quadratic equation follows the format: ax^2 + bx + c = 0\")\n",
    "\n",
    "a = float(input(\"Type in the value of a: \"))\n",
    "b = float(input(\"Type in the value of b: \"))\n",
    "c = float(input(\"Type in the value of c: \"))\n",
    "\n",
    "# using discriminant formula to solve for the roots\n",
    "d = (b ** 2) - 4 * a * c\n",
    "\n",
    "if d > 0:\n",
    "    root1 = (-b + cmath.sqrt(d))/(2*a)\n",
    "    root2 = (-b - cmath.sqrt(d))/(2*a)\n",
    "    print (\"The roots of the quadratic equation are 'Real and Unequal' and they are: \", root1, root2)\n",
    "\n",
    "elif d < 0:\n",
    "    root1 = (-b + cmath.sqrt(d))/(2*a)\n",
    "    root2 = (-b - cmath.sqrt(d))/(2*a)\n",
    "    print (\"The roots of the quadratic equation are 'Imaginary' and they are: \", root1, root2 )\n",
    "\n",
    "elif d == 0:\n",
    "    root1 = (-b + cmath.sqrt(d))/(2*a)\n",
    "    root2 = (-b - cmath.sqrt(d))/(2*a)\n",
    "    print (\"The roots of the quadratic equation are 'Real and Equal' and they are: \", root1, root2 )\n",
    "\n",
    "else:\n",
    "    print (\"Your input is invalid\")\n",
    "    \n",
    "print (\"Thank you for using Mirireoluwa's Program\")\n"
   ]
  }
 ],
 "metadata": {
  "kernelspec": {
   "display_name": "Python 3.10.7 64-bit",
   "language": "python",
   "name": "python3"
  },
  "language_info": {
   "codemirror_mode": {
    "name": "ipython",
    "version": 3
   },
   "file_extension": ".py",
   "mimetype": "text/x-python",
   "name": "python",
   "nbconvert_exporter": "python",
   "pygments_lexer": "ipython3",
   "version": "3.10.7"
  },
  "orig_nbformat": 4,
  "vscode": {
   "interpreter": {
    "hash": "aee8b7b246df8f9039afb4144a1f6fd8d2ca17a180786b69acc140d282b71a49"
   }
  }
 },
 "nbformat": 4,
 "nbformat_minor": 2
}
