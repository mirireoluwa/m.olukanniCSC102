{
 "cells": [
  {
   "cell_type": "code",
   "execution_count": 8,
   "metadata": {},
   "outputs": [
    {
     "name": "stdout",
     "output_type": "stream",
     "text": [
      "Welcome to Yega Services\n",
      "We are a delivery and logistics company that provides the best and affordable delivery services.\n",
      "The delivery price is NGN 1,500\n",
      "Thank you for using Yega's Services\n"
     ]
    }
   ],
   "source": [
    "#welcome message\n",
    "print (\"Welcome to Yega Services\")\n",
    "print (\"We are a delivery and logistics company that provides the best and affordable delivery services.\")\n",
    "\n",
    "weight = float(input(\"What is the weight of the package?: \"))\n",
    "location = str(input(\"What is the delivery location of the package? (Choose an option between Ibeju-Lekki or Epe): \"))\n",
    "def services (str):\n",
    "\n",
    "    if weight >= 10.0 and location == \"Ibeju-Lekki\":\n",
    "        print (\"The delivery price is NGN 2,000\")\n",
    "\n",
    "    elif weight < 10.0 and location == \"Ibeju-Lekki\":\n",
    "        print (\"The delivery price is NGN 1,500\")\n",
    "\n",
    "    elif weight >= 10.0 and location == \"Epe\":\n",
    "        print (\"The delivery price is NGN 5,000\")\n",
    "\n",
    "    elif weight < 10.0 and location == \"Epe\":\n",
    "        print (\"The delivery price is NGN 4,000\")\n",
    "\n",
    "    else:\n",
    "        print (\"Invalid Input\")\n",
    "    print (\"Thank you for using Yega's Services\")\n",
    "    return\n",
    "\n",
    "services (str)\n"
   ]
  }
 ],
 "metadata": {
  "kernelspec": {
   "display_name": "Python 3.10.9 ('base')",
   "language": "python",
   "name": "python3"
  },
  "language_info": {
   "codemirror_mode": {
    "name": "ipython",
    "version": 3
   },
   "file_extension": ".py",
   "mimetype": "text/x-python",
   "name": "python",
   "nbconvert_exporter": "python",
   "pygments_lexer": "ipython3",
   "version": "3.10.9 (main, Mar  1 2023, 12:33:47) [Clang 14.0.6 ]"
  },
  "orig_nbformat": 4,
  "vscode": {
   "interpreter": {
    "hash": "31421b1e0e1365a0afb14a9c24615649cde24663bcdbdd9ca137285c376efece"
   }
  }
 },
 "nbformat": 4,
 "nbformat_minor": 2
}
