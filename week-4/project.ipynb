{
 "cells": [
  {
   "cell_type": "code",
   "execution_count": 11,
   "metadata": {},
   "outputs": [
    {
     "name": "stdout",
     "output_type": "stream",
     "text": [
      "Welcome to Mirireoluwa's Program\n",
      "This program aims to display the Names, Scores, Ages, and Heights of students in a class of 20\n",
      "Here is a list of the 10 female students in this class:\n",
      "Name    | Age | Height | Score\n",
      "Samantha | 17 | 5.5 | 80\n",
      "Jada | 16 | 6.0 | 85\n",
      "Jane | 17 | 5.4 | 70\n",
      "Claire | 18 | 5.9 | 60\n",
      "Elizabeth | 16 | 5.6 | 76\n",
      "Mary | 18 | 5.5 | 66\n",
      "Susan | 17 | 6.1 | 87\n",
      "Waje | 20 | 6.0 | 95\n",
      "Taibat | 19 | 5.7 | 50\n",
      "Lilian | 17 | 5.5 | 49\n",
      "Charles | 19 | 5.7 | 74\n",
      "Jude | 16 | 5.9 | 87\n",
      "James | 18 | 5.8 | 75\n",
      "Kelvin | 17 | 6.1 | 68\n",
      "Biodun | 20 | 5.9 | 66\n",
      "Wale | 19 | 5.5 | 78\n",
      "Kunle | 16 | 6.1 | 87\n",
      "Matthew | 18 | 5.4 | 98\n",
      "Tom | 17 | 5.8 | 54\n",
      "Kayode | 19 | 5.7 | 60\n",
      "Thank you for using Mirireoluwa's Program\n"
     ]
    }
   ],
   "source": [
    "#  project 1\n",
    "#  program to display data about a class containing 10 girls and 10 boys\n",
    "print (\"Welcome to Mirireoluwa's Program\")\n",
    "print (\"This program aims to display the Names, Scores, Ages, and Heights of students in a class of 20\")\n",
    "\n",
    "\n",
    "name = [\"Samantha\", \"Jada\", \"Jane\", \"Claire\", \"Elizabeth\", \"Mary\", \"Susan\", \"Waje\", \"Taibat\", \"Lilian\", \n",
    "        \"Charles\", \"Jude\", \"James\", \"Kelvin\", \"Biodun\", \"Wale\", \"Kunle\", \"Matthew\", \"Tom\", \"Kayode\"]\n",
    "age = [17, 16, 17, 18, 16, 18, 17, 20, 19, 17, 19, 16, 18, 17, 20, 19, 16, 18, 17, 19]\n",
    "height  = [5.5, 6.0, 5.4, 5.9, 5.6, 5.5, 6.1, 6.0, 5.7, 5.5, 5.7, 5.9, 5.8, 6.1, 5.9, 5.5, 6.1, 5.4, 5.8, 5.7]\n",
    "scores = [80, 85, 70, 60, 76, 66, 87, 95, 50, 49, 74, 87, 75, 68, 66, 78, 87, 98, 54, 60]\n",
    "\n",
    "print (\"Here is a list of the 10 female students in this class:\")\n",
    "print (\"Name    | Age | Height | Score\")\n",
    "\n",
    "    # for loop\n",
    "for i in range(len(name)):\n",
    "        print(name[i], \"|\", age[i], \"|\", height[i], \"|\", scores[i])\n",
    "\n",
    "print (\"Thank you for using Mirireoluwa's Program\")"
   ]
  },
  {
   "cell_type": "code",
   "execution_count": 11,
   "metadata": {},
   "outputs": [
    {
     "name": "stdout",
     "output_type": "stream",
     "text": [
      "Welcome to Amali FinTech Nigeria.\n",
      "Hi Mirireoluwa! \n",
      "Mirireoluwa's Annual Tax Revenue is NGN 4,480,000\n",
      "Thank you for using our program.\n"
     ]
    }
   ],
   "source": [
    "# project 2\n",
    "print (\"Welcome to Amali FinTech Nigeria.\")\n",
    "\n",
    "name = str(input(\"Name: \"))\n",
    "print (f\"Hi {name}! \")\n",
    "experience = float(input(\"Experience: \"))\n",
    "age = float(input(\"Age: \"))\n",
    "\n",
    "if experience > 25.0 and  age >= 55.0:\n",
    "    print (f\"{name}'s Annual Tax Revenue is NGN 5,600,000\")\n",
    "\n",
    "elif experience > 20.0 and age >= 45.0:\n",
    "    print (f\"{name}'s Annual Tax Revenue is NGN 4,480,000\")\n",
    "\n",
    "elif experience > 10.0 and age > 35.0:\n",
    "    print (f\"{name}'s Annual Tax Revenue is NGN 1,500,000\")\n",
    "\n",
    "elif experience < 10.0 and age < 35.0:\n",
    "    print (f\"{name}'s Annual Tax Revenue is NGN 550,000\")\n",
    "\n",
    "else:\n",
    "    print (\"Invalid Input\")\n",
    "\n",
    "print (\"Thank you for using our program.\")"
   ]
  }
 ],
 "metadata": {
  "kernelspec": {
   "display_name": "Python 3.10.7 64-bit",
   "language": "python",
   "name": "python3"
  },
  "language_info": {
   "codemirror_mode": {
    "name": "ipython",
    "version": 3
   },
   "file_extension": ".py",
   "mimetype": "text/x-python",
   "name": "python",
   "nbconvert_exporter": "python",
   "pygments_lexer": "ipython3",
   "version": "3.10.7"
  },
  "orig_nbformat": 4,
  "vscode": {
   "interpreter": {
    "hash": "aee8b7b246df8f9039afb4144a1f6fd8d2ca17a180786b69acc140d282b71a49"
   }
  }
 },
 "nbformat": 4,
 "nbformat_minor": 2
}
