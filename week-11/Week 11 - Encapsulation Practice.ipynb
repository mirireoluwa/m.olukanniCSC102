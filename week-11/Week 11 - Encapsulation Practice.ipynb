{
 "cells": [
  {
   "cell_type": "markdown",
   "metadata": {},
   "source": [
    "# Encapsulation in Python"
   ]
  },
  {
   "cell_type": "markdown",
   "metadata": {},
   "source": [
    "<ul><li>Encapsulation is the concept of bundling data and methods within a single unit. For example, when you create a class, it means you are implementing encapsulation. A class is an example of encapsulation as it binds all the data members (instance variables) and methods into a single unit.</li><li>\n",
    "\n",
    "Using encapsulation, we can hide an object’s internal representation from the outside. This is called information hiding.</li><li>\n",
    "\n",
    "Encapsulation allows us to restrict accessing variables and methods directly and prevent accidental data modification by creating private data members and methods within a class.</li><li>\n",
    "\n",
    "Encapsulation is a way to restrict access to methods and variables from outside of class. Whenever working with the class and dealing with sensitive data, providing access to all variables used within the class is not a good choice.</li></ul>"
   ]
  },
  {
   "cell_type": "code",
   "execution_count": 3,
   "metadata": {},
   "outputs": [
    {
     "name": "stdout",
     "output_type": "stream",
     "text": [
      "\n",
      "Name:  Mirireoluwa \n",
      "Salary: N25000\n",
      "Mirireoluwa is working on Encryption\n"
     ]
    }
   ],
   "source": [
    "# A program that displays employees information\n",
    "\n",
    "class Employee:\n",
    "    \n",
    "    # constructor\n",
    "    def __init__(self, name, salary, project):        \n",
    "        # instance variables\n",
    "        self.name = name\n",
    "        self.salary = salary\n",
    "        self.project = project\n",
    "\n",
    "    # method to display employee's details\n",
    "    def show(self):        \n",
    "        # accessing public instance variables\n",
    "        print(\"\\nName: \" , self.name, '\\nSalary:', \"N\"+str(self.salary))\n",
    "\n",
    "    # method\n",
    "    def work(self):\n",
    "        print(self.name, 'is working on', self.project)\n",
    "\n",
    "\n",
    "name = input(\"Enter your name: \")\n",
    "salary = int(input(\"How much do you earn: \"))\n",
    "project = input(\"What project are you working on: \")\n",
    "\n",
    "# creating object of a class\n",
    "emp = Employee(name, salary, project)\n",
    "\n",
    "# calling public method of the class\n",
    "emp.show()\n",
    "emp.work()"
   ]
  },
  {
   "cell_type": "markdown",
   "metadata": {},
   "source": [
    "## Access Modifiers in Python"
   ]
  },
  {
   "cell_type": "markdown",
   "metadata": {},
   "source": [
    "<ul><li>Encapsulation can be achieved by declaring the data members and methods of a class either as private or protected.</li><li> In Python, there is no direct access modifiers like public, private, and protected. </li><li>This can achieve by using single underscore and double underscores.</li></ul>\n",
    "\n",
    "Access modifiers limit access to the variables and methods of a class. Python provides three types of access modifiers private, public, and protected.\n",
    "\n",
    "<ul><li><b>Public Instance Variable:</b> Accessible anywhere from outside oclass.</li><li>\n",
    "    <b>Private Instance Variable:</b> Accessible within the class.</li><li>\n",
    "    <b>Protected Instance Variable:</b> Accessible within the class and its sub-classes.</li></ul>"
   ]
  },
  {
   "cell_type": "markdown",
   "metadata": {},
   "source": [
    "### Public Instance Variable\n",
    "Public instance variables are accessible within and outside of a class. All member variables of the class are by default public."
   ]
  },
  {
   "cell_type": "code",
   "execution_count": 9,
   "metadata": {},
   "outputs": [
    {
     "name": "stdout",
     "output_type": "stream",
     "text": [
      "Name:  Mirireoluwa Salary: N25000\n",
      "Name: Mirireoluwa, Salary: N25000\n"
     ]
    }
   ],
   "source": [
    "class Employee:\n",
    "    \n",
    "    # constructor\n",
    "    def __init__(self, name, salary):        \n",
    "        # public instance variables\n",
    "        self.name = name\n",
    "        self.salary = salary\n",
    "\n",
    "    # public instance methods\n",
    "    def show(self):\n",
    "        # accessing public instance variables\n",
    "        print(f\"Name: {self.name}, Salary: N{self.salary}\")\n",
    "\n",
    "#input name and salary\n",
    "name = input(\"Enter your name: \")\n",
    "salary = int(input(\"Enter your salary: \"))\n",
    "\n",
    "# creating object of a class\n",
    "emp = Employee(name, salary)\n",
    "\n",
    "# accessing public instance variables\n",
    "print(\"Name: \", emp.name, 'Salary:', \"N{}\".format(emp.salary))\n",
    "\n",
    "# calling public method of the class\n",
    "emp.show()"
   ]
  },
  {
   "cell_type": "markdown",
   "metadata": {},
   "source": [
    "### Private Instance Variable\n",
    "<ul><li>Protect variables in the class by marking them private. To define a private variable add two underscores as a prefix at the start of a variable name.</li><li>\n",
    "\n",
    "Private instance variables are accessible only within the class, and we can’t access them directly from the class objects.</li></ul>"
   ]
  },
  {
   "cell_type": "code",
   "execution_count": 8,
   "metadata": {},
   "outputs": [
    {
     "name": "stdout",
     "output_type": "stream",
     "text": [
      "Name:  Lemuel Otu\n",
      "Salary: 10000\n"
     ]
    }
   ],
   "source": [
    "class Employee:\n",
    "    \n",
    "    # constructor\n",
    "    def __init__(self, name, salary):        \n",
    "        # public instance variable\n",
    "        self.name = name\n",
    "        \n",
    "        # private variable\n",
    "        self.__salary = salary\n",
    "\n",
    "# creating object of a class\n",
    "emp = Employee('Lemuel Otu', 10000)\n",
    "\n",
    "# accessing public instance variables\n",
    "print(\"Name: \", emp.name)\n",
    "\n",
    "# accessing private instance variable\n",
    "print('Salary:', emp._Employee__salary)"
   ]
  },
  {
   "cell_type": "markdown",
   "metadata": {},
   "source": [
    "To access private members from outside of a class using the following two approaches\n",
    "\n",
    "<ul><li>Create public method to access private members</li><li>\n",
    "Use name mangling</li></ul>"
   ]
  },
  {
   "cell_type": "markdown",
   "metadata": {},
   "source": [
    "#### Access Private member outside of a class using an instance method"
   ]
  },
  {
   "cell_type": "code",
   "execution_count": 10,
   "metadata": {},
   "outputs": [
    {
     "name": "stdout",
     "output_type": "stream",
     "text": [
      "Name:  Clinton Okpara \n",
      "Salary: 250000\n"
     ]
    }
   ],
   "source": [
    "class Employee:\n",
    "    \n",
    "    # constructor\n",
    "    def __init__(self, name, salary):        \n",
    "        # public data member\n",
    "        self.name = name\n",
    "        \n",
    "        # private member\n",
    "        self.__salary = salary\n",
    "\n",
    "    # public instance methods\n",
    "    def show(self):\n",
    "        # private members are accessible from a class\n",
    "        print(\"Name: \", self.name, '\\nSalary:', self.__salary)\n",
    "\n",
    "# creating object of a class\n",
    "emp = Employee('Clinton Okpara', 250000)\n",
    "\n",
    "# calling public method of the class\n",
    "emp.show()"
   ]
  },
  {
   "cell_type": "markdown",
   "metadata": {},
   "source": [
    "#### Name Mangling to access private members\n",
    "<ul><li>Private and protected variables can be directly accessed from outside of a class through name mangling.</li><li> The name mangling is created on an identifier by adding two leading underscores and one trailing underscore, like this <b>_classname__dataMember</b>, where <b><i>classname</i></b> is the current class, and data member is the private variable name.</li></ul>"
   ]
  },
  {
   "cell_type": "code",
   "execution_count": 13,
   "metadata": {},
   "outputs": [
    {
     "name": "stdout",
     "output_type": "stream",
     "text": [
      "Name: Mardiyyah Apampa\n",
      "Salary: N900000\n"
     ]
    }
   ],
   "source": [
    "class Employee:\n",
    "    # constructor\n",
    "    def __init__(self, name, salary):\n",
    "        # public instance variable\n",
    "        self.name = name\n",
    "        \n",
    "        # private variable\n",
    "        self.__salary = salary\n",
    "\n",
    "# creating object of a class\n",
    "emp = Employee('Mardiyyah Apampa', 900000)\n",
    "\n",
    "#direct access to public instance variable\n",
    "print('Name:', emp.name)\n",
    "\n",
    "# direct access to private instance variable using name mangling\n",
    "print(f\"Salary: N{emp._Employee__salary}\")"
   ]
  },
  {
   "cell_type": "markdown",
   "metadata": {},
   "source": [
    "### Protected Instance Variable\n",
    "<ul><li>Protected instance variables are accessible within the class and also available to its sub-classes. </li><li>To define a protected variable, prefix the variable name with a single underscore <b>_</b>.</li><li>\n",
    "\n",
    "Protected instance variables are used when you implement inheritance and want to allow data members access to only child classes.</li></ul>"
   ]
  },
  {
   "cell_type": "code",
   "execution_count": 14,
   "metadata": {},
   "outputs": [
    {
     "name": "stdout",
     "output_type": "stream",
     "text": [
      "Employee name : Mirireoluwa\n",
      "Working on project : Blockchain Development\n",
      "Project: Blockchain Development\n"
     ]
    }
   ],
   "source": [
    "# base class\n",
    "class Company:\n",
    "    # base constructor\n",
    "    def __init__(self):\n",
    "        # Protected instance variable\n",
    "        self._project = \"Blockchain Development\"\n",
    "\n",
    "# child class\n",
    "class Employee(Company):\n",
    "    # child constructor\n",
    "    def __init__(self, name):\n",
    "        self.name = name\n",
    "        \n",
    "        # invoke base constructor\n",
    "        Company.__init__(self)\n",
    "\n",
    "    def show(self):\n",
    "        print(f\"Employee name : {self.name}\")\n",
    "        \n",
    "        # Accessing protected instance variable in child class\n",
    "        print(\"Working on project :\", self._project)\n",
    "\n",
    "c = Employee(input(\"Enter your name: \"))\n",
    "c.show()\n",
    "\n",
    "# Direct access to protected instance variable\n",
    "print('Project:', c._project)"
   ]
  },
  {
   "cell_type": "markdown",
   "metadata": {},
   "source": [
    "## Getters and Setters in Python\n",
    "<ul><li>To implement proper encapsulation in Python, setters and getters can be used.</li><li> The primary purpose of using getters and setters in object-oriented programs is to ensure data encapsulation.</li><li> Use the getter method to access instance variables and the setter methods to modify the instance variables.</li></ul>\n",
    "\n",
    "In Python, private variables are not hidden fields like in other programming languages. The getters and setters methods are often used when:\n",
    "\n",
    "<ul><li>When we want to avoid direct access to private variables</li><li>\n",
    "To add validation logic for setting a value</li></ul>"
   ]
  },
  {
   "cell_type": "code",
   "execution_count": 16,
   "metadata": {},
   "outputs": [
    {
     "name": "stdout",
     "output_type": "stream",
     "text": [
      "Name: Chike Okala \n",
      "Age: 34\n",
      "\n",
      "\n",
      "Name: Chike Okala \n",
      "Age: 26\n"
     ]
    }
   ],
   "source": [
    "class Student:\n",
    "    def __init__(self, name, age):\n",
    "        # public instance variable\n",
    "        self.name = name\n",
    "        # private instance variable\n",
    "        self.__age = age\n",
    "\n",
    "    # getter method\n",
    "    def get_age(self):\n",
    "        return self.__age\n",
    "\n",
    "    # setter method\n",
    "    def set_age(self, age):\n",
    "        self.__age = age\n",
    "\n",
    "stud = Student('Chike Okala', 34)\n",
    "\n",
    "# retrieving age using getter\n",
    "print('Name:', stud.name, \"\\nAge:\", stud.get_age())\n",
    "\n",
    "# changing age using setter\n",
    "stud.set_age(26)\n",
    "\n",
    "# retrieving age using getter\n",
    "print('\\n\\nName:', stud.name, \"\\nAge:\", stud.get_age())"
   ]
  },
  {
   "cell_type": "code",
   "execution_count": 19,
   "metadata": {},
   "outputs": [
    {
     "name": "stdout",
     "output_type": "stream",
     "text": [
      "Student Details: Odunayo Agunbiade 10\n",
      "Invalid roll no. Please set correct roll number\n",
      "Student Details: Odunayo Agunbiade 25\n"
     ]
    }
   ],
   "source": [
    "class Student:\n",
    "    # contructor\n",
    "    def __init__(self, name, roll_no, age):\n",
    "        # public instance variable\n",
    "        self.name = name\n",
    "        # private instance variables to restrict access\n",
    "        # avoid direct data modification\n",
    "        self.__roll_no = roll_no\n",
    "        self.__age = age\n",
    "\n",
    "    def show(self):\n",
    "        print('Student Details:', self.name, self.__roll_no)\n",
    "\n",
    "    # getter methods\n",
    "    def get_roll_no(self):\n",
    "        return self.__roll_no\n",
    "\n",
    "    # setter method to modify instance varaible\n",
    "    # condition to allow data modification with rules\n",
    "    def set_roll_no(self, number):\n",
    "        if number > 50:\n",
    "            print('Invalid roll no. Please set correct roll number')\n",
    "        else:\n",
    "            self.__roll_no = number\n",
    "\n",
    "# object instanciation\n",
    "info = Student('Odunayo Agunbiade', 10, 15)\n",
    "\n",
    "# before Modify\n",
    "info.show()\n",
    "\n",
    "# changing roll number using setter\n",
    "info.set_roll_no(120)\n",
    "\n",
    "\n",
    "info.set_roll_no(25)\n",
    "info.show()"
   ]
  },
  {
   "cell_type": "markdown",
   "metadata": {},
   "source": [
    "## Class Project I "
   ]
  },
  {
   "cell_type": "markdown",
   "metadata": {},
   "source": [
    "You have been contracted by the Registrar of Pan-Atlantic University (PAU) as an expert OOP developer to access the Student Information System (SIS) of PAU Student Council, inorder to classify the students grades, according to their age, into 3 categories; the pirates, the yankees and the bulls.\n",
    "\n",
    "Should you choose to accept this task, develop an OOP program that reads data from the sis.csv file as attached, following the instructions below: \n",
    "\n",
    "<b>Instructions:</b>\n",
    "    <ul><li>If the student age is greater than 14 and less than 18, create a .csv file for that category called <b>The_Pirates</b> and display it.</li><li>\n",
    "    If the student age is greater than 18 and less than 22, create a file for that category called <b>The_Yankees</b> and display it.</li><li>\n",
    "    If the student age is greater than 22 create a file for that category called <b>The_Bulls</b> and display it.</li></ul>\n"
   ]
  },
  {
   "cell_type": "code",
   "execution_count": 20,
   "metadata": {},
   "outputs": [
    {
     "name": "stdout",
     "output_type": "stream",
     "text": [
      "Pan-Atlantic University\n",
      "Welcome to the Student Information System\n",
      "Congratulations Aina Adeleke, You are now a Pirate!\n",
      "Congratulations Sola Egbune, You are now a Bull!\n",
      "Congratulations Callistus Okeke, You are now a Pirate!\n",
      "Congratulations Martin Alegbe, You are now a Bull!\n",
      "Congratulations Mary Akande, You are now a Yankee!\n",
      "Congratulations Stella Olohimen, You are now a Pirate!\n",
      "Congratulations Gabriel Pati, You are now a Yankee!\n",
      "Congratulations Durojaiye Adamu, You are now a Bull!\n",
      "Congratulations Kolawole Alabi, You are now a Yankee!\n",
      "Congratulations Tope Ogunleye, You are now a Bull!\n",
      "Congratulations Wilfred Nwachukwu, You are now a Pirate!\n",
      "Congratulations Mildred James, You are now a Pirate!\n",
      "Congratulations Glory Babalola, You are now a Yankee!\n",
      "Congratulations Edith Ade, You are now a Bull!\n",
      "Congratulations Godwin Osahon, You are now a Yankee!\n",
      "Congratulations Philip Odion, You are now a Yankee!\n",
      "\n",
      "The_Pirates.csv: \n",
      "MatNo: 1810\n",
      "Name: Aina Adeleke\n",
      "Age: 16\n",
      "Grade: 80\n",
      "\n",
      "MatNo: 1812\n",
      "Name: Callistus Okeke\n",
      "Age: 17\n",
      "Grade: 40\n",
      "\n",
      "MatNo: 1815\n",
      "Name: Stella Olohimen\n",
      "Age: 17\n",
      "Grade: 44\n",
      "\n",
      "MatNo: 1820\n",
      "Name: Wilfred Nwachukwu\n",
      "Age: 16\n",
      "Grade: 45\n",
      "\n",
      "MatNo: 1821\n",
      "Name: Mildred James\n",
      "Age: 15\n",
      "Grade: 70\n",
      "\n",
      "\n",
      "The_Yankees.csv: \n",
      "MatNo: 1814\n",
      "Name: Mary Akande\n",
      "Age: 20\n",
      "Grade: 87\n",
      "\n",
      "MatNo: 1816\n",
      "Name: Gabriel Pati\n",
      "Age: 18\n",
      "Grade: 50\n",
      "\n",
      "MatNo: 1818\n",
      "Name: Kolawole Alabi\n",
      "Age: 18\n",
      "Grade: 67\n",
      "\n",
      "MatNo: 1822\n",
      "Name: Glory Babalola\n",
      "Age: 21\n",
      "Grade: 69\n",
      "\n",
      "MatNo: 1824\n",
      "Name: Godwin Osahon\n",
      "Age: 20\n",
      "Grade: 51\n",
      "\n",
      "MatNo: 1825\n",
      "Name: Philip Odion\n",
      "Age: 19\n",
      "Grade: 68\n",
      "\n",
      "\n",
      "The_Bulls.csv: \n",
      "MatNo: 1811\n",
      "Name: Sola Egbune\n",
      "Age: 23\n",
      "Grade: 55\n",
      "\n",
      "MatNo: 1813\n",
      "Name: Martin Alegbe\n",
      "Age: 25\n",
      "Grade: 77\n",
      "\n",
      "MatNo: 1817\n",
      "Name: Durojaiye Adamu\n",
      "Age: 24\n",
      "Grade: 60\n",
      "\n",
      "MatNo: 1819\n",
      "Name: Tope Ogunleye\n",
      "Age: 22\n",
      "Grade: 54\n",
      "\n",
      "MatNo: 1823\n",
      "Name: Edith Ade\n",
      "Age: 22\n",
      "Grade: 57\n",
      "\n"
     ]
    }
   ],
   "source": [
    "import pandas as pd\n",
    "import csv\n",
    "\n",
    "#welcome message\n",
    "print(\"Pan-Atlantic University\")\n",
    "print(\"Welcome to the Student Information System\")\n",
    "\n",
    "class Student:\n",
    "    def __init__(self, mat_no, name, age, grade):\n",
    "        self.name = name\n",
    "        self.age = age\n",
    "        self.grade = grade\n",
    "        self.mat_no = mat_no\n",
    "\n",
    "class System:\n",
    "    def __init__(self, csv_file):\n",
    "        self.csv_file = csv_file\n",
    "        self.students = []\n",
    "        \n",
    "    def read_csv(self, student_input):\n",
    "        found = False  # Flag variable to track if input is found\n",
    "        \n",
    "        # Reading data from the CSV file and creating Student objects\n",
    "        with open(self.csv_file, \"r\") as file:\n",
    "            reader = csv.reader(file)\n",
    "            next(reader)  # Skip the header row\n",
    "            for row in reader:\n",
    "                mat_no = int(row[0])\n",
    "                name = str(row[1])\n",
    "                age = int(row[2])\n",
    "                grade = int(row[3])\n",
    "                student = Student(mat_no, name, age, grade)\n",
    "                self.students.append(student)\n",
    "                \n",
    "                # Check if input matches any student record\n",
    "                if mat_no == student_input.mat_no and name == student_input.name:\n",
    "                    found = True\n",
    "                    break\n",
    "        \n",
    "        # Condition for if data inputted is not in the database\n",
    "        if not found:\n",
    "            print(\"Access Denied. Your information is not found in the database.\")\n",
    "        else:\n",
    "            self.classify_students()\n",
    "                \n",
    "    def classify_students(self):\n",
    "        pirates = []\n",
    "        yankees = []\n",
    "        bulls = []\n",
    "        \n",
    "        # Categorizing students based on age\n",
    "        for student in self.students:\n",
    "            if student.age >= 14 and student.age < 18:\n",
    "                pirates.append(student)\n",
    "                print(f\"Congratulations {student.name}, You are now a Pirate!\")\n",
    "                \n",
    "            elif student.age >= 18 and student.age < 22:\n",
    "                yankees.append(student)\n",
    "                print(f\"Congratulations {student.name}, You are now a Yankee!\")\n",
    "                \n",
    "            elif student.age >= 22:\n",
    "                bulls.append(student)\n",
    "                print(f\"Congratulations {student.name}, You are now a Bull!\")\n",
    "            \n",
    "        self.write_csv(\"The_Pirates.csv\", pirates)\n",
    "        self.write_csv(\"The_Yankees.csv\", yankees)\n",
    "        self.write_csv(\"The_Bulls.csv\", bulls)\n",
    "        \n",
    "    def write_csv(self, csv_file, students):\n",
    "        if students:\n",
    "        # Creating a DataFrame and writing the student data to a CSV file\n",
    "            data = {\n",
    "                \"MatNo\": [student.mat_no for student in students],\n",
    "                \"Name\": [student.name for student in students],\n",
    "                \"Age\": [student.age for student in students],\n",
    "                \"Grade\": [student.grade for student in students]\n",
    "            }\n",
    "            \n",
    "            df = pd.DataFrame(data)\n",
    "            df.to_csv(csv_file, index=False)\n",
    "            self.display_category(csv_file, students)\n",
    "            \n",
    "\n",
    "    def display_category(self, category, students):\n",
    "        # Displaying student information for a particular category\n",
    "        print(f\"\\n{category}: \")\n",
    "        for student in students:\n",
    "            print(f\"MatNo: {student.mat_no}\")\n",
    "            print(f\"Name: {student.name}\")\n",
    "            print(f\"Age: {student.age}\")\n",
    "            print(f\"Grade: {student.grade}\")\n",
    "            print()\n",
    "\n",
    "\n",
    "# Access to the CSV file containing all data            \n",
    "csv_file = \"sis.csv\"\n",
    "\n",
    "mat_no = int(input(\"Matriculation Number: \"))\n",
    "name = str(input(\"Name: \"))\n",
    "age = int(input(\"Age: \"))\n",
    "grade = int(input(\"Grade: \"))\n",
    "\n",
    "student_input = Student(mat_no, name, age, grade)\n",
    "\n",
    "stud = System(csv_file)\n",
    "stud.read_csv(student_input)"
   ]
  }
 ],
 "metadata": {
  "kernelspec": {
   "display_name": "base",
   "language": "python",
   "name": "python3"
  },
  "language_info": {
   "codemirror_mode": {
    "name": "ipython",
    "version": 3
   },
   "file_extension": ".py",
   "mimetype": "text/x-python",
   "name": "python",
   "nbconvert_exporter": "python",
   "pygments_lexer": "ipython3",
   "version": "3.10.9"
  },
  "vscode": {
   "interpreter": {
    "hash": "31421b1e0e1365a0afb14a9c24615649cde24663bcdbdd9ca137285c376efece"
   }
  }
 },
 "nbformat": 4,
 "nbformat_minor": 4
}
