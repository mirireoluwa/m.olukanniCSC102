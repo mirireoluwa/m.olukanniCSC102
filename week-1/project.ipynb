{
 "cells": [
  {
   "cell_type": "code",
   "execution_count": 2,
   "metadata": {},
   "outputs": [
    {
     "name": "stdout",
     "output_type": "stream",
     "text": [
      "Hello! Welcome to Mirireoluwa's Program. This program aims to displays formulas for Simple Interest, Compound Interest, and Annuity Plan problems.\n",
      "What problem would you like to solve?\n",
      "You have selected the Simple Interest formula\n",
      "The formula for Simple Interest is A = P(1 + (R/100) * T)\n",
      "The Simple Interest for the inputted values is: NGN 336.00000000000006\n",
      "Thank you for using Mirireoluwa's Program\n"
     ]
    }
   ],
   "source": [
    "# welcome message\n",
    "msg1 = \"Hello!\"\n",
    "msg2 = \"Welcome to Mirireoluwa's Program.\"\n",
    "msg3 = \"This program aims to display formulas for Simple Interest, Compound Interest, and Annuity Plan problems.\"\n",
    "\n",
    "concat = msg1 +' '+msg2+' '+msg3\n",
    "\n",
    "print(concat)\n",
    "\n",
    "# problems broken down\n",
    "print(\"What problem would you like to solve?\")\n",
    "\n",
    "# selection for which problem one would like to solve\n",
    "select = input(\"Select 1 for Simple Interest, Select 2 for Compound Interest, Select 3 for Annuity Plan\")\n",
    "\n",
    "\n",
    "# simple interest selection\n",
    "if select == \"1\":\n",
    "    print(\"You have selected the Simple Interest formula\")\n",
    "    print(\"The formula for Simple Interest is A = P(1 + (R/100) * T)\")\n",
    "    principal = float(input(\"Please type in the value of the principal: \"))\n",
    "    rate = float(input(\"Please type in the value of the rate: \"))\n",
    "    time = float(input(\"Please type in the value of the time: \"))\n",
    "\n",
    "    simple_interest = principal * (1 + (rate/100) * time)\n",
    "    print(\"The Simple Interest for the inputted values is: NGN\",simple_interest)\n",
    "\n",
    "# compound interest selection\n",
    "elif select == \"2\":\n",
    "    print(\"You have selected the Compound Interest formula\")\n",
    "    print(\"The formula for Compound Interest is A = P(1 + R/n) ^ nt\")\n",
    "    principal_2 = float(input(\"Type in the value of the principal: \"))\n",
    "    rate_2 = float(input(\"Type in the value of the rate: \"))\n",
    "    number = float(input(\"Type in the value of the number: \"))\n",
    "    time_2 = float(input(\"Type in the value of the time: \"))\n",
    "\n",
    "    compound_interest = principal_2 * (1 + rate_2/number) ** (number * time_2)\n",
    "    print(\"The Compound Interest for the inputted values is: NGN\", compound_interest)\n",
    "\n",
    "# annuity plan selection\n",
    "elif select == \"3\":\n",
    "    print(\"You have selected the Annuity Plan formula\")\n",
    "    print(\"The Annuity Plan formula is A = PMT * [(1 + R/n) ^ (nt) - 1] / (R/n)\")\n",
    "    pmt = float(input(\"Please type in the value of the PMT: \"))\n",
    "    rate_3 = float(input(\"Please type in the value of the rate: \"))\n",
    "    number_2 = float(input(\"Please type in the value of the number: \"))\n",
    "    time_3 = float(input(\"Please type in the value of the time: \"))\n",
    "\n",
    "    annuity_plan = pmt * ((1 + rate_3/number_2) ** (number * time_3) - 1) / (rate_3/number_2)\n",
    "    print(\"The Annuity Plan is: NGN\", annuity_plan)\n",
    "\n",
    "else:\n",
    "    print(\"You have made no selection\")\n",
    "\n",
    "print(\"Thank you for using Mirireoluwa's Program\")"
   ]
  }
 ],
 "metadata": {
  "kernelspec": {
   "display_name": "Python 3.10.7 64-bit",
   "language": "python",
   "name": "python3"
  },
  "language_info": {
   "codemirror_mode": {
    "name": "ipython",
    "version": 3
   },
   "file_extension": ".py",
   "mimetype": "text/x-python",
   "name": "python",
   "nbconvert_exporter": "python",
   "pygments_lexer": "ipython3",
   "version": "3.10.7"
  },
  "orig_nbformat": 4,
  "vscode": {
   "interpreter": {
    "hash": "aee8b7b246df8f9039afb4144a1f6fd8d2ca17a180786b69acc140d282b71a49"
   }
  }
 },
 "nbformat": 4,
 "nbformat_minor": 2
}
