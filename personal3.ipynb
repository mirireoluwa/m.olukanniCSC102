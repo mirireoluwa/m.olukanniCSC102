{
 "cells": [
  {
   "cell_type": "code",
   "execution_count": null,
   "metadata": {},
   "outputs": [],
   "source": [
    "\n",
    "class BankAccount():\n",
    "    \n",
    "    def __init__(self, account_number, balance):\n",
    "        if len(str(account_number)) > 10:\n",
    "            raise ValueError(\"Account number must be at most 10 digits.\")\n",
    "        self.account_number = str(account_number)\n",
    "        self.balance = balance\n",
    "\n",
    "    def deposit(self, amount, balance):\n",
    "        self.balance += amount\n",
    "        print(f\"You have successfully deposited NGN {amount}. Your Account Balance is NGN {self.balance}\")\n",
    "        \n",
    "    def withdraw(self, amount, balance):\n",
    "        if self.balance >= amount:\n",
    "            self.balance -= amount\n",
    "            print(f\"You have successfully withdrawn NGN {amount}. Your Account Balance is NGN {self.balance}\")\n",
    "        else:\n",
    "            print(f\"Insufficient funds. Account Balance: {self.balance}\")\n",
    "        \n",
    "    def display_balance(self, balance):\n",
    "        print(f\"Account number: NGN {self.account_number}\")\n",
    "        print(f\"Account Balance: NGN {self.balance}\")\n",
    "        \n",
    "        \n",
    "        \n",
    "account_number = str(input(\"Account number: \"))\n",
    "obj = BankAccount(account_number, 1000000.00)\n",
    "\n",
    "\n",
    "choice = int(input(\"What would you like to do? \\n\\n Click '1' to Deposit \\n Click '2' to Withdraw \\n Click '3' to view Account Balance\"))\n",
    "\n",
    "if choice == 1:\n",
    "    amount = int(input(\"How much would you like to deposit?: \"))\n",
    "    obj.deposit(amount, 1000000.00)\n",
    "    \n",
    "elif choice == 2:\n",
    "    amount = int(input(\"How much would you like to withdraw? \"))\n",
    "    obj.withdraw(amount, 1000000.00)\n",
    "    \n",
    "elif choice == 3:\n",
    "    obj.display_balance(1000000.00)\n",
    "    \n",
    "    \n",
    "else:\n",
    "    print(\"Invalid Input\")"
   ]
  }
 ],
 "metadata": {
  "language_info": {
   "name": "python"
  },
  "orig_nbformat": 4
 },
 "nbformat": 4,
 "nbformat_minor": 2
}
