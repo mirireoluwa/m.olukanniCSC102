{
 "cells": [
  {
   "cell_type": "markdown",
   "metadata": {},
   "source": [
    "# CONNECTING PYTHON WITH POSTGRES DATABASE "
   ]
  },
  {
   "cell_type": "markdown",
   "metadata": {},
   "source": [
    "### 1. CREATE A DATABSE student_profile"
   ]
  },
  {
   "cell_type": "code",
   "execution_count": 2,
   "metadata": {},
   "outputs": [],
   "source": [
    "import psycopg2\n",
    "\n",
    "# Establish a connection to the PostgreSQL server\n",
    "conn = psycopg2.connect(\n",
    "    host = \"localhost\",\n",
    "    port = \"5433\",\n",
    "    user = \"postgres\",\n",
    "    password = \"csc101\"\n",
    ")\n",
    "\n",
    "# Create a new database\n",
    "new_db_name = \"student_profile\"\n",
    "conn.autocommit = True\n",
    "cursor = conn.cursor()\n",
    "cursor.execute(f\"CREATE DATABASE {new_db_name};\")\n",
    "\n",
    "cursor.close()\n",
    "\n",
    "\n",
    "# Close the connection\n",
    "conn.close()"
   ]
  },
  {
   "cell_type": "markdown",
   "metadata": {},
   "source": [
    "### 2. CREATE A TABLE student_info"
   ]
  },
  {
   "cell_type": "code",
   "execution_count": 3,
   "metadata": {},
   "outputs": [],
   "source": [
    "# Establish a connection to the PostgreSQL server\n",
    "conn = psycopg2.connect(\n",
    "    host=\"localhost\",\n",
    "    port=\"5433\",\n",
    "    database=\"student_profile\",\n",
    "    user=\"postgres\",\n",
    "    password=\"csc101\"\n",
    ")\n",
    "# Create a cursor object\n",
    "cursor = conn.cursor()\n",
    "\n",
    "# Define the CREATE TABLE statement\n",
    "create_table_query = '''\n",
    "    CREATE TABLE student_info (\n",
    "        name varchar,\n",
    "        email varchar,\n",
    "        mat_no varchar  )\n",
    "'''\n",
    "\n",
    "# Execute the CREATE TABLE statement\n",
    "cursor.execute(create_table_query)\n",
    "\n",
    "\n",
    "# Commit the changes\n",
    "conn.commit()\n",
    "\n",
    "# Close the cursor and connection\n",
    "cursor.close()\n",
    "conn.close()"
   ]
  },
  {
   "cell_type": "markdown",
   "metadata": {},
   "source": [
    "### 3. INSERT INTO TABLE student_info"
   ]
  },
  {
   "cell_type": "code",
   "execution_count": 4,
   "metadata": {},
   "outputs": [],
   "source": [
    "import psycopg2\n",
    "\n",
    "# Establish a connection to the PostgreSQL server\n",
    "conn = psycopg2.connect(\n",
    "    host=\"localhost\",\n",
    "    port=\"5433\",\n",
    "    database=\"student_profile\",\n",
    "    user=\"postgres\",\n",
    "    password=\"csc101\"\n",
    ")\n",
    "\n",
    "# Create a cursor object\n",
    "cursor = conn.cursor()\n",
    "\n",
    "# Define the INSERT statement\n",
    "insert_query = '''\n",
    "    INSERT INTO student_info (name, email, mat_no)\n",
    "    VALUES (%s, %s, %s)\n",
    "'''\n",
    "\n",
    "# Define the values to be inserted\n",
    "values = ('Ade Jones', 'ajones@pau.edu.ng', '121234222')\n",
    "\n",
    "# Execute the INSERT statement\n",
    "cursor.execute(insert_query, values)\n",
    "\n",
    "# Commit the changes\n",
    "conn.commit()\n",
    "\n",
    "# Close the cursor and connection\n",
    "cursor.close()\n",
    "conn.close()"
   ]
  },
  {
   "cell_type": "markdown",
   "metadata": {},
   "source": [
    "### 4. SELECT ALL FROM student_info"
   ]
  },
  {
   "cell_type": "code",
   "execution_count": 5,
   "metadata": {},
   "outputs": [
    {
     "name": "stdout",
     "output_type": "stream",
     "text": [
      "Ade Jones | ajones@pau.edu.ng | 121234222\n"
     ]
    }
   ],
   "source": [
    "import psycopg2\n",
    "\n",
    "# Establish a connection to the PostgreSQL server\n",
    "conn = psycopg2.connect(\n",
    "    host=\"localhost\",\n",
    "    port=\"5433\",\n",
    "    database=\"student_profile\",\n",
    "    user=\"postgres\",\n",
    "    password=\"csc101\"\n",
    ")\n",
    "\n",
    "# Create a cursor object\n",
    "cursor = conn.cursor()\n",
    "\n",
    "# Define the SELECT statement\n",
    "select_query = \"SELECT * FROM student_info;\"\n",
    "\n",
    "# Execute the SELECT statement\n",
    "cursor.execute(select_query)\n",
    "\n",
    "# Fetch all the rows from the result set\n",
    "rows = cursor.fetchall()\n",
    "\n",
    "# Process the fetched rows\n",
    "for row in rows:\n",
    "    # Access individual columns using index or column names\n",
    "    column1_value = row[0]\n",
    "    column2_value = row[1]\n",
    "    column3_value = row[2]\n",
    "    \n",
    "    print(f\"{column1_value} | {column2_value} | {column3_value}\")\n",
    "\n",
    "# Close the cursor and connection\n",
    "cursor.close()\n",
    "conn.close()\n"
   ]
  },
  {
   "cell_type": "markdown",
   "metadata": {},
   "source": [
    "### 5. DELETE FROM student_info"
   ]
  },
  {
   "cell_type": "code",
   "execution_count": 82,
   "metadata": {},
   "outputs": [],
   "source": [
    "import psycopg2\n",
    "\n",
    "# Establish a connection to the PostgreSQL server\n",
    "conn = psycopg2.connect(\n",
    "    host=\"localhost\",\n",
    "    port=\"5433\",\n",
    "    database=\"student_profile\",\n",
    "    user=\"postgres\",\n",
    "    password=\"csc101\"\n",
    ")\n",
    "\n",
    "# Create a cursor object\n",
    "cursor = conn.cursor()\n",
    "\n",
    "# Define the DELETE statement\n",
    "delete_query = \"DELETE FROM student_info;\"\n",
    "\n",
    "# Execute the DELETE statement\n",
    "cursor.execute(delete_query)\n",
    "\n",
    "# Commit the changes\n",
    "conn.commit()\n",
    "\n",
    "# Close the cursor and connection\n",
    "cursor.close()\n",
    "conn.close()\n"
   ]
  },
  {
   "cell_type": "markdown",
   "metadata": {},
   "source": [
    "# CLASS PROJECT I\n",
    "\n",
    "\n"
   ]
  },
  {
   "cell_type": "markdown",
   "metadata": {},
   "source": [
    "<ul>\n",
    "    <li>Create a database called <b><i>mtn_nigeria</i></b></li>\n",
    "<li>Create a table called <b><i>customer_info</i></b></li>\n",
    "<li>Insert the following customer information into the database</li>\n",
    "</ul>\n"
   ]
  },
  {
   "cell_type": "code",
   "execution_count": 73,
   "metadata": {},
   "outputs": [
    {
     "data": {
      "text/html": [
       "<div>\n",
       "<style scoped>\n",
       "    .dataframe tbody tr th:only-of-type {\n",
       "        vertical-align: middle;\n",
       "    }\n",
       "\n",
       "    .dataframe tbody tr th {\n",
       "        vertical-align: top;\n",
       "    }\n",
       "\n",
       "    .dataframe thead th {\n",
       "        text-align: right;\n",
       "    }\n",
       "</style>\n",
       "<table border=\"1\" class=\"dataframe\">\n",
       "  <thead>\n",
       "    <tr style=\"text-align: right;\">\n",
       "      <th></th>\n",
       "      <th>Name</th>\n",
       "      <th>Email</th>\n",
       "      <th>State of Residence</th>\n",
       "      <th>Mobile</th>\n",
       "    </tr>\n",
       "  </thead>\n",
       "  <tbody>\n",
       "    <tr>\n",
       "      <th>0</th>\n",
       "      <td>Favor Okpara-Ngbo</td>\n",
       "      <td>fokpara-ngbo@mtn.com</td>\n",
       "      <td>Lagos</td>\n",
       "      <td>08038212938</td>\n",
       "    </tr>\n",
       "    <tr>\n",
       "      <th>1</th>\n",
       "      <td>Joshua Asekhauno</td>\n",
       "      <td>jasekhauno@mtn.com</td>\n",
       "      <td>Portharcourt</td>\n",
       "      <td>080374930210</td>\n",
       "    </tr>\n",
       "    <tr>\n",
       "      <th>2</th>\n",
       "      <td>Collins Odoh-Ifeanyi</td>\n",
       "      <td>codoh-ifeanyi@mtn.com</td>\n",
       "      <td>Abuja</td>\n",
       "      <td>08067392029</td>\n",
       "    </tr>\n",
       "    <tr>\n",
       "      <th>3</th>\n",
       "      <td>Chibundum Umeh</td>\n",
       "      <td>cumeh@mtn.com</td>\n",
       "      <td>Owerri</td>\n",
       "      <td>0803493712348</td>\n",
       "    </tr>\n",
       "    <tr>\n",
       "      <th>4</th>\n",
       "      <td>Clinto Okpara</td>\n",
       "      <td>cokpara@mtn.com</td>\n",
       "      <td>Kaduna</td>\n",
       "      <td>08068381138</td>\n",
       "    </tr>\n",
       "  </tbody>\n",
       "</table>\n",
       "</div>"
      ],
      "text/plain": [
       "                   Name                  Email State of Residence  \\\n",
       "0     Favor Okpara-Ngbo   fokpara-ngbo@mtn.com              Lagos   \n",
       "1      Joshua Asekhauno     jasekhauno@mtn.com       Portharcourt   \n",
       "2  Collins Odoh-Ifeanyi  codoh-ifeanyi@mtn.com              Abuja   \n",
       "3        Chibundum Umeh          cumeh@mtn.com             Owerri   \n",
       "4         Clinto Okpara        cokpara@mtn.com             Kaduna   \n",
       "\n",
       "          Mobile  \n",
       "0    08038212938  \n",
       "1   080374930210  \n",
       "2    08067392029  \n",
       "3  0803493712348  \n",
       "4    08068381138  "
      ]
     },
     "execution_count": 73,
     "metadata": {},
     "output_type": "execute_result"
    }
   ],
   "source": [
    "import pandas as pd\n",
    "\n",
    "customer_info = {\"Name\": [\"Favor Okpara-Ngbo\", \"Joshua Asekhauno\", \"Collins Odoh-Ifeanyi\", \"Chibundum Umeh\", \"Clinto Okpara\"], \n",
    "  \"Email\": [\"fokpara-ngbo@mtn.com\", \"jasekhauno@mtn.com\", \"codoh-ifeanyi@mtn.com\", \"cumeh@mtn.com\", \"cokpara@mtn.com\"], \n",
    "  \"State of Residence\": [\"Lagos\", \"Portharcourt\", \"Abuja\", \"Owerri\", \"Kaduna\"],\n",
    "   \"Mobile\": [\"08038212938\", \"080374930210\", \"08067392029\",\"0803493712348\", \"08068381138\"]}\n",
    "info = pd.DataFrame(customer_info)\n",
    "info"
   ]
  },
  {
   "cell_type": "code",
   "execution_count": 11,
   "metadata": {},
   "outputs": [],
   "source": [
    "import psycopg2\n",
    "\n",
    "conn = psycopg2.connect(\n",
    "    host = \"localhost\",\n",
    "    port = \"5433\",\n",
    "    user = \"postgres\",\n",
    "    password = \"csc101\"\n",
    ")\n",
    "\n",
    "new_db_name = \"mtn_nigeria\"\n",
    "conn.autocommit = True\n",
    "cursor = conn.cursor()\n",
    "cursor.execute(f\"CREATE DATABASE {new_db_name};\")"
   ]
  },
  {
   "cell_type": "code",
   "execution_count": 28,
   "metadata": {},
   "outputs": [
    {
     "ename": "DuplicateTable",
     "evalue": "relation \"customer_info\" already exists\n",
     "output_type": "error",
     "traceback": [
      "\u001b[0;31m---------------------------------------------------------------------------\u001b[0m",
      "\u001b[0;31mDuplicateTable\u001b[0m                            Traceback (most recent call last)",
      "Cell \u001b[0;32mIn[28], line 24\u001b[0m\n\u001b[1;32m     15\u001b[0m create_table_query \u001b[39m=\u001b[39m \u001b[39m'''\u001b[39m\n\u001b[1;32m     16\u001b[0m \u001b[39m    CREATE TABLE customer_info (\u001b[39m\n\u001b[1;32m     17\u001b[0m \u001b[39m        name varchar,\u001b[39m\n\u001b[0;32m   (...)\u001b[0m\n\u001b[1;32m     20\u001b[0m \u001b[39m        mobile bigint )\u001b[39m\n\u001b[1;32m     21\u001b[0m \u001b[39m'''\u001b[39m\n\u001b[1;32m     23\u001b[0m \u001b[39m# Execute the CREATE TABLE statement\u001b[39;00m\n\u001b[0;32m---> 24\u001b[0m cursor\u001b[39m.\u001b[39;49mexecute(create_table_query)\n\u001b[1;32m     27\u001b[0m \u001b[39m# Commit the changes\u001b[39;00m\n\u001b[1;32m     28\u001b[0m conn\u001b[39m.\u001b[39mcommit()\n",
      "\u001b[0;31mDuplicateTable\u001b[0m: relation \"customer_info\" already exists\n"
     ]
    }
   ],
   "source": [
    "import psycopg2\n",
    "\n",
    "conn = psycopg2.connect(\n",
    "    host = \"localhost\",\n",
    "    port = \"5433\",\n",
    "    database = \"mtn_nigeria\",\n",
    "    user = \"postgres\",\n",
    "    password = \"csc101\"\n",
    ")\n",
    "\n",
    "# Create a cursor object\n",
    "cursor = conn.cursor()\n",
    "\n",
    "# Define the CREATE TABLE statement\n",
    "create_table_query = '''\n",
    "    CREATE TABLE customer_info (\n",
    "        name varchar,\n",
    "        email varchar,\n",
    "        state_of_residence varchar,\n",
    "        mobile bigint )\n",
    "'''\n",
    "\n",
    "# Execute the CREATE TABLE statement\n",
    "cursor.execute(create_table_query)\n",
    "\n",
    "\n",
    "# Commit the changes\n",
    "conn.commit()\n",
    "\n",
    "# Close the cursor and connection\n",
    "cursor.close()\n",
    "conn.close()\n"
   ]
  },
  {
   "cell_type": "code",
   "execution_count": 13,
   "metadata": {},
   "outputs": [],
   "source": [
    "import psycopg2\n",
    "\n",
    "conn = psycopg2.connect(\n",
    "    host = \"localhost\",\n",
    "    port = \"5433\",\n",
    "    database = \"mtn_nigeria\",\n",
    "    user = \"postgres\",\n",
    "    password = \"csc101\"\n",
    ")\n",
    "# Create a cursor object\n",
    "cursor = conn.cursor()\n",
    "\n",
    "# Define the INSERT statement\n",
    "insert_query = '''\n",
    "    INSERT INTO  customer_info (name, email, state_of_residence, mobile)\n",
    "    VALUES ('Favor Okpara-Ngbo', 'fokpara-ngbo@mtn.com', 'Lagos', '08038212938'), ('Joshua Asekhauno', 'jasekhauno@mtn.com', 'Port-Harcourt', '080374930210'), ('Collins Odoh-Ifeanyi', 'codoh-ifeanyi@mtn.com', 'Abuja', '08067392029'), ('Chibundum Umeh', 'cumeh@mtn.com', 'Owerri', '0803493712348'), ('Clinto Okpara', 'cokpara@mtn.com', 'Kaduna', '08068381138')\n",
    "'''\n",
    "\n",
    "# Execute the INSERT statement\n",
    "cursor.execute(insert_query)\n",
    "\n",
    "# Commit the changes\n",
    "conn.commit()\n",
    "\n",
    "# Close the cursor and connection\n",
    "cursor.close()\n",
    "conn.close()\n",
    "\n"
   ]
  },
  {
   "cell_type": "markdown",
   "metadata": {},
   "source": [
    "# Class Project II"
   ]
  },
  {
   "cell_type": "markdown",
   "metadata": {},
   "source": [
    "<ul>\n",
    "    <li>Create a database called <b><i>comp_sci_dpt</i></b></li>\n",
    "<li>Create a table called <b><i>csc102_class_list</i></b></li>\n",
    "<li>Download the class list .csv file from e-learning</li>\n",
    "<li>Insert the the class list into the database</li>\n",
    "<li>Dump the database and class list table</li>\n",
    "<li>Commit the python code and dumped database to your GitHub (Week 14)</li>\n",
    "</ul>\n"
   ]
  },
  {
   "cell_type": "code",
   "execution_count": 8,
   "metadata": {},
   "outputs": [
    {
     "ename": "DuplicateDatabase",
     "evalue": "database \"comp_sci_dpt\" already exists\n",
     "output_type": "error",
     "traceback": [
      "\u001b[0;31m---------------------------------------------------------------------------\u001b[0m",
      "\u001b[0;31mDuplicateDatabase\u001b[0m                         Traceback (most recent call last)",
      "Cell \u001b[0;32mIn[8], line 13\u001b[0m\n\u001b[1;32m     11\u001b[0m conn\u001b[39m.\u001b[39mautocommit \u001b[39m=\u001b[39m \u001b[39mTrue\u001b[39;00m\n\u001b[1;32m     12\u001b[0m cursor \u001b[39m=\u001b[39m conn\u001b[39m.\u001b[39mcursor()\n\u001b[0;32m---> 13\u001b[0m cursor\u001b[39m.\u001b[39;49mexecute(\u001b[39mf\u001b[39;49m\u001b[39m\"\u001b[39;49m\u001b[39mCREATE DATABASE \u001b[39;49m\u001b[39m{\u001b[39;49;00mnew_db_name\u001b[39m}\u001b[39;49;00m\u001b[39m;\u001b[39;49m\u001b[39m\"\u001b[39;49m)\n",
      "\u001b[0;31mDuplicateDatabase\u001b[0m: database \"comp_sci_dpt\" already exists\n"
     ]
    }
   ],
   "source": [
    "import psycopg2\n",
    "\n",
    "conn = psycopg2.connect(\n",
    "    host = \"localhost\",\n",
    "    port = \"5433\",\n",
    "    user = \"postgres\",\n",
    "    password = \"csc101\"\n",
    ")\n",
    "\n",
    "new_db_name = \"comp_sci_dpt\"\n",
    "conn.autocommit = True\n",
    "cursor = conn.cursor()\n",
    "cursor.execute(f\"CREATE DATABASE {new_db_name};\")\n"
   ]
  },
  {
   "cell_type": "code",
   "execution_count": 18,
   "metadata": {},
   "outputs": [
    {
     "ename": "DuplicateTable",
     "evalue": "relation \"csc102_class_list\" already exists\n",
     "output_type": "error",
     "traceback": [
      "\u001b[0;31m---------------------------------------------------------------------------\u001b[0m",
      "\u001b[0;31mDuplicateTable\u001b[0m                            Traceback (most recent call last)",
      "Cell \u001b[0;32mIn[18], line 22\u001b[0m\n\u001b[1;32m     14\u001b[0m create_table_query \u001b[39m=\u001b[39m \u001b[39m'''\u001b[39m\n\u001b[1;32m     15\u001b[0m \u001b[39m    CREATE TABLE csc102_class_list (\u001b[39m\n\u001b[1;32m     16\u001b[0m \u001b[39m        firstname varchar,\u001b[39m\n\u001b[1;32m     17\u001b[0m \u001b[39m        middlename varchar,\u001b[39m\n\u001b[1;32m     18\u001b[0m \u001b[39m        surname varchar)\u001b[39m\n\u001b[1;32m     19\u001b[0m \u001b[39m'''\u001b[39m\n\u001b[1;32m     21\u001b[0m \u001b[39m# Execute the CREATE TABLE statement\u001b[39;00m\n\u001b[0;32m---> 22\u001b[0m cursor\u001b[39m.\u001b[39;49mexecute(create_table_query)\n\u001b[1;32m     23\u001b[0m conn\u001b[39m.\u001b[39mcommit()\n\u001b[1;32m     24\u001b[0m cursor\u001b[39m.\u001b[39mclose()\n",
      "\u001b[0;31mDuplicateTable\u001b[0m: relation \"csc102_class_list\" already exists\n"
     ]
    }
   ],
   "source": [
    "import psycopg2\n",
    "\n",
    "conn = psycopg2.connect(\n",
    "    host = \"localhost\",\n",
    "    port = \"5433\",\n",
    "    database = \"comp_sci_dpt\",\n",
    "    user = \"postgres\",\n",
    "    password = \"csc101\"\n",
    ")\n",
    "# Create a cursor object\n",
    "cursor = conn.cursor()\n",
    "\n",
    "# Define the CREATE TABLE statement\n",
    "create_table_query = '''\n",
    "    CREATE TABLE csc102_class_list (\n",
    "        firstname varchar,\n",
    "        middlename varchar,\n",
    "        surname varchar)\n",
    "'''\n",
    "\n",
    "# Execute the CREATE TABLE statement\n",
    "cursor.execute(create_table_query)\n",
    "conn.commit()\n",
    "cursor.close()\n",
    "conn.close()"
   ]
  },
  {
   "cell_type": "code",
   "execution_count": 17,
   "metadata": {},
   "outputs": [
    {
     "name": "stdout",
     "output_type": "stream",
     "text": [
      "Index(['S', 'FIRST NAME', 'MIDDLE NAME', 'SURNAME'], dtype='object')\n"
     ]
    }
   ],
   "source": [
    "import psycopg2\n",
    "import pandas as pd\n",
    "\n",
    "\n",
    "conn = psycopg2.connect(\n",
    "    host = \"localhost\",\n",
    "    port = \"5433\",\n",
    "    database = \"comp_sci_dpt\",\n",
    "    user = \"postgres\",\n",
    "    password = \"csc101\"\n",
    ")\n",
    "\n",
    "# Create a cursor object\n",
    "cursor = conn.cursor()\n",
    "\n",
    "# Define the INSERT statement\n",
    "insert_query = '''\n",
    "    INSERT INTO csc102_class_list (firstname, middlename, surname)\n",
    "    VALUES (%s, %s, %s)\n",
    "'''\n",
    "\n",
    "# read the CSV file into a pandas DataFrame\n",
    "class_list_df = pd.read_csv('csc102_class_list_II.csv')\n",
    "\n",
    "print(class_list_df.columns)\n",
    "\n",
    "# iterate over the rows of the Data Frame and insert into the database\n",
    "for index, row in class_list_df.iterrows():\n",
    "    values = (row['FIRST NAME'], row['MIDDLE NAME'], row['SURNAME'])\n",
    "    cursor.execute(insert_query, values)\n",
    "\n",
    "# Commit the changes\n",
    "conn.commit()\n",
    "\n",
    "# Close the cursor and connection\n",
    "cursor.close()\n",
    "conn.close()\n"
   ]
  }
 ],
 "metadata": {
  "kernelspec": {
   "display_name": "base",
   "language": "python",
   "name": "python3"
  },
  "language_info": {
   "codemirror_mode": {
    "name": "ipython",
    "version": 3
   },
   "file_extension": ".py",
   "mimetype": "text/x-python",
   "name": "python",
   "nbconvert_exporter": "python",
   "pygments_lexer": "ipython3",
   "version": "3.10.9"
  },
  "vscode": {
   "interpreter": {
    "hash": "31421b1e0e1365a0afb14a9c24615649cde24663bcdbdd9ca137285c376efece"
   }
  }
 },
 "nbformat": 4,
 "nbformat_minor": 4
}
